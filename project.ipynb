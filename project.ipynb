{
 "cells": [
  {
   "cell_type": "code",
   "execution_count": 4,
   "id": "55ed9508",
   "metadata": {},
   "outputs": [],
   "source": [
    "import numpy as np\n",
    "import matplotlib.pyplot as plt"
   ]
  },
  {
   "cell_type": "code",
   "execution_count": null,
   "id": "804ff172",
   "metadata": {},
   "outputs": [],
   "source": [
    "# Data structure: [restaurant_id,2021,2022,2023,2024]\n",
    "sales_data = np.array([[1,150000,180000,220000,250000], # Paradise Biryani\n",
    "                       [2,120000,140000,160000,190000], # Bejjing Bites\n",
    "                       [3,200000,230000,260000,300000], # Pizza Hub\n",
    "                       [4,180000,210000,240000,270000], # Burger Point\n",
    "                       [5,160000,185000,205000,230000]  # Chai Point\n",
    "])"
   ]
  },
  {
   "cell_type": "code",
   "execution_count": 6,
   "id": "30747e44",
   "metadata": {},
   "outputs": [
    {
     "data": {
      "text/plain": [
       "(5, 5)"
      ]
     },
     "execution_count": 6,
     "metadata": {},
     "output_type": "execute_result"
    }
   ],
   "source": [
    "sales_data.shape"
   ]
  },
  {
   "cell_type": "code",
   "execution_count": 8,
   "id": "136f4c8b",
   "metadata": {},
   "outputs": [],
   "source": [
    "cleaned_sales= sales_data[:,1:]"
   ]
  },
  {
   "cell_type": "code",
   "execution_count": 9,
   "id": "d0126d34",
   "metadata": {},
   "outputs": [
    {
     "data": {
      "text/plain": [
       "array([[150000, 180000, 220000, 250000],\n",
       "       [120000, 140000, 160000, 190000],\n",
       "       [200000, 230000, 260000, 300000]])"
      ]
     },
     "execution_count": 9,
     "metadata": {},
     "output_type": "execute_result"
    }
   ],
   "source": [
    "cleaned_sales[:3]"
   ]
  },
  {
   "cell_type": "code",
   "execution_count": 21,
   "id": "df793479",
   "metadata": {},
   "outputs": [
    {
     "name": "stdout",
     "output_type": "stream",
     "text": [
      "-------------Sales per year---------\n",
      "[ 810000  945000 1085000 1240000]\n",
      "\n",
      "-------------Sales per restaurant---------\n",
      "[800000 610000 990000 900000 780000]\n"
     ]
    }
   ],
   "source": [
    "#total sales per year\n",
    "\n",
    "print(f'-------------Sales per year---------\\n{cleaned_sales.sum(axis= 0)}')\n",
    "\n",
    "#total sales per restaurant\n",
    "print(f'\\n-------------Sales per restaurant---------\\n{cleaned_sales.sum(axis= 1)}')"
   ]
  },
  {
   "cell_type": "code",
   "execution_count": null,
   "id": "d1bf6621",
   "metadata": {},
   "outputs": [
    {
     "data": {
      "text/plain": [
       "array([150000, 120000, 200000, 180000, 160000])"
      ]
     },
     "execution_count": 26,
     "metadata": {},
     "output_type": "execute_result"
    }
   ],
   "source": [
    "#minimum sales per restaurant\n",
    "np.min(cleaned_sales,axis = 1)"
   ]
  },
  {
   "cell_type": "code",
   "execution_count": null,
   "id": "66cf0f7e",
   "metadata": {},
   "outputs": [
    {
     "data": {
      "text/plain": [
       "array([200000, 230000, 260000, 300000])"
      ]
     },
     "execution_count": 31,
     "metadata": {},
     "output_type": "execute_result"
    }
   ],
   "source": [
    "#maximum sales per year\n",
    "np.max(cleaned_sales, axis= 0)"
   ]
  },
  {
   "cell_type": "code",
   "execution_count": 32,
   "id": "9fe19f06",
   "metadata": {},
   "outputs": [
    {
     "data": {
      "text/plain": [
       "array([200000., 152500., 247500., 225000., 195000.])"
      ]
     },
     "execution_count": 32,
     "metadata": {},
     "output_type": "execute_result"
    }
   ],
   "source": [
    "# average sales per restaurant\n",
    "\n",
    "cleaned_sales.mean(axis=1)"
   ]
  },
  {
   "cell_type": "code",
   "execution_count": 37,
   "id": "54159167",
   "metadata": {},
   "outputs": [
    {
     "data": {
      "text/plain": [
       "array([[150000, 330000, 550000, 800000],\n",
       "       [120000, 260000, 420000, 610000],\n",
       "       [200000, 430000, 690000, 990000],\n",
       "       [180000, 390000, 630000, 900000],\n",
       "       [160000, 345000, 550000, 780000]])"
      ]
     },
     "execution_count": 37,
     "metadata": {},
     "output_type": "execute_result"
    }
   ],
   "source": [
    "#cumulative sales per restaurant over the years\n",
    "cumsum=cleaned_sales.cumsum(axis= 1)\n",
    "cumsum"
   ]
  },
  {
   "cell_type": "code",
   "execution_count": 39,
   "id": "b40206ae",
   "metadata": {},
   "outputs": [
    {
     "data": {
      "text/plain": [
       "[<matplotlib.lines.Line2D at 0x214f8719fd0>]"
      ]
     },
     "execution_count": 39,
     "metadata": {},
     "output_type": "execute_result"
    },
    {
     "data": {
      "image/png": "[encoded data removed]",
      "text/plain": [
       "<Figure size 640x480 with 1 Axes>"
      ]
     },
     "metadata": {},
     "output_type": "display_data"
    }
   ],
   "source": [
    "plt.plot(np.mean(cumsum,axis= 0))"
   ]
  },
  {
   "cell_type": "code",
   "execution_count": null,
   "id": "7a2f9ae2",
   "metadata": {},
   "outputs": [],
   "source": []
  },
  {
   "cell_type": "code",
   "execution_count": null,
   "id": "c560541c",
   "metadata": {},
   "outputs": [],
   "source": []
  },
  {
   "cell_type": "code",
   "execution_count": null,
   "id": "d301941d",
   "metadata": {},
   "outputs": [],
   "source": []
  },
  {
   "cell_type": "code",
   "execution_count": null,
   "id": "bc1a0200",
   "metadata": {},
   "outputs": [],
   "source": []
  },
  {
   "cell_type": "code",
   "execution_count": null,
   "id": "dd2849fe",
   "metadata": {},
   "outputs": [],
   "source": []
  }
 ],
 "metadata": {
  "kernelspec": {
   "display_name": "base",
   "language": "python",
   "name": "python3"
  },
  "language_info": {
   "codemirror_mode": {
    "name": "ipython",
    "version": 3
   },
   "file_extension": ".py",
   "mimetype": "text/x-python",
   "name": "python",
   "nbconvert_exporter": "python",
   "pygments_lexer": "ipython3",
   "version": "3.11.7"
  }
 },
 "nbformat": 4,
 "nbformat_minor": 5
}
