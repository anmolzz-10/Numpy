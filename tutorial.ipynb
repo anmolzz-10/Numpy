{
 "cells": [
  {
   "cell_type": "code",
   "execution_count": 1,
   "id": "aa0aed0d",
   "metadata": {},
   "outputs": [],
   "source": [
    "import numpy as np"
   ]
  },
  {
   "cell_type": "code",
   "execution_count": 2,
   "id": "a2c850d2",
   "metadata": {},
   "outputs": [
    {
     "data": {
      "text/plain": [
       "[1, 2, 3, 4, 5]"
      ]
     },
     "execution_count": 2,
     "metadata": {},
     "output_type": "execute_result"
    }
   ],
   "source": [
    "list = [1,2,3,4,5]\n",
    "list"
   ]
  },
  {
   "cell_type": "code",
   "execution_count": 3,
   "id": "810eb0b3",
   "metadata": {},
   "outputs": [
    {
     "data": {
      "text/plain": [
       "array([1, 2, 3, 4, 5])"
      ]
     },
     "execution_count": 3,
     "metadata": {},
     "output_type": "execute_result"
    }
   ],
   "source": [
    "np_array= np.array([1,2,3,4,5])\n",
    "np_array"
   ]
  },
  {
   "cell_type": "code",
   "execution_count": 4,
   "id": "9dcbe5ee",
   "metadata": {},
   "outputs": [
    {
     "data": {
      "text/plain": [
       "(5,)"
      ]
     },
     "execution_count": 4,
     "metadata": {},
     "output_type": "execute_result"
    }
   ],
   "source": [
    "np.shape(np_array) ## 1 dimensional array"
   ]
  },
  {
   "cell_type": "code",
   "execution_count": 5,
   "id": "97beb024",
   "metadata": {},
   "outputs": [],
   "source": [
    "two_d_array = np.array([[1,2,3],\n",
    "                        [4,5,6],\n",
    "                        [7,8,9]]) ##2d array\n"
   ]
  },
  {
   "cell_type": "code",
   "execution_count": 6,
   "id": "02fce809",
   "metadata": {},
   "outputs": [
    {
     "data": {
      "text/plain": [
       "(3, 3)"
      ]
     },
     "execution_count": 6,
     "metadata": {},
     "output_type": "execute_result"
    }
   ],
   "source": [
    "np.shape(two_d_array)"
   ]
  },
  {
   "cell_type": "code",
   "execution_count": 7,
   "id": "c2feb547",
   "metadata": {},
   "outputs": [
    {
     "data": {
      "text/plain": [
       "array([[ 2,  4,  6],\n",
       "       [ 8, 10, 12]])"
      ]
     },
     "execution_count": 7,
     "metadata": {},
     "output_type": "execute_result"
    }
   ],
   "source": [
    "##matrix same as 2d\n",
    "\n",
    "matrix = np.array([[2,4,6],\n",
    "                   [8,10,12]])\n",
    "matrix"
   ]
  },
  {
   "cell_type": "markdown",
   "id": "960cda3b",
   "metadata": {},
   "source": [
    "#### Creating arrays from python list"
   ]
  },
  {
   "cell_type": "code",
   "execution_count": 8,
   "id": "c43620f0",
   "metadata": {},
   "outputs": [
    {
     "data": {
      "text/plain": [
       "array([1, 2, 3, 4])"
      ]
     },
     "execution_count": 8,
     "metadata": {},
     "output_type": "execute_result"
    }
   ],
   "source": [
    "np.array([1,2,3,4]) ###use when already have a list"
   ]
  },
  {
   "cell_type": "markdown",
   "id": "56b8bd53",
   "metadata": {},
   "source": [
    "#### With default values"
   ]
  },
  {
   "cell_type": "code",
   "execution_count": 9,
   "id": "5466d32c",
   "metadata": {},
   "outputs": [
    {
     "data": {
      "text/plain": [
       "array([[0., 0.],\n",
       "       [0., 0.]])"
      ]
     },
     "execution_count": 9,
     "metadata": {},
     "output_type": "execute_result"
    }
   ],
   "source": [
    "np.zeros((2,2))"
   ]
  },
  {
   "cell_type": "code",
   "execution_count": 10,
   "id": "c42a2ebb",
   "metadata": {},
   "outputs": [
    {
     "data": {
      "text/plain": [
       "array([[1., 1.],\n",
       "       [1., 1.]])"
      ]
     },
     "execution_count": 10,
     "metadata": {},
     "output_type": "execute_result"
    }
   ],
   "source": [
    "np.ones((2,2))"
   ]
  },
  {
   "cell_type": "code",
   "execution_count": 11,
   "id": "2de086a3",
   "metadata": {},
   "outputs": [
    {
     "data": {
      "text/plain": [
       "array([[7, 7],\n",
       "       [7, 7]])"
      ]
     },
     "execution_count": 11,
     "metadata": {},
     "output_type": "execute_result"
    }
   ],
   "source": [
    "np.full((2,2),7)"
   ]
  },
  {
   "cell_type": "markdown",
   "id": "85784afb",
   "metadata": {},
   "source": [
    "#### Creating sequences of numbers"
   ]
  },
  {
   "cell_type": "code",
   "execution_count": 12,
   "id": "95e10ea5",
   "metadata": {},
   "outputs": [
    {
     "data": {
      "text/plain": [
       "array([1, 3, 5, 7, 9])"
      ]
     },
     "execution_count": 12,
     "metadata": {},
     "output_type": "execute_result"
    }
   ],
   "source": [
    "np.arange(1,10,2)"
   ]
  },
  {
   "cell_type": "markdown",
   "id": "3f69c324",
   "metadata": {},
   "source": [
    "#### Creating identity matrix"
   ]
  },
  {
   "cell_type": "code",
   "execution_count": 13,
   "id": "861b2368",
   "metadata": {},
   "outputs": [
    {
     "data": {
      "text/plain": [
       "array([[1., 0., 0., 0.],\n",
       "       [0., 1., 0., 0.],\n",
       "       [0., 0., 1., 0.],\n",
       "       [0., 0., 0., 1.]])"
      ]
     },
     "execution_count": 13,
     "metadata": {},
     "output_type": "execute_result"
    }
   ],
   "source": [
    "np.eye(4)"
   ]
  },
  {
   "cell_type": "markdown",
   "id": "d3b74b8b",
   "metadata": {},
   "source": [
    "## Operations and Properties of Numpy array"
   ]
  },
  {
   "cell_type": "code",
   "execution_count": 14,
   "id": "036ccb45",
   "metadata": {},
   "outputs": [],
   "source": [
    "import numpy as np"
   ]
  },
  {
   "cell_type": "code",
   "execution_count": 15,
   "id": "909ad46c",
   "metadata": {},
   "outputs": [],
   "source": [
    "arr_2d =  np.array([[1,2,3],\n",
    "                    [4,5,6]])"
   ]
  },
  {
   "cell_type": "code",
   "execution_count": 16,
   "id": "ce4ef8f6",
   "metadata": {},
   "outputs": [
    {
     "data": {
      "text/plain": [
       "(2, 3)"
      ]
     },
     "execution_count": 16,
     "metadata": {},
     "output_type": "execute_result"
    }
   ],
   "source": [
    "arr_2d.shape ##structure of array"
   ]
  },
  {
   "cell_type": "code",
   "execution_count": 17,
   "id": "301f90cf",
   "metadata": {},
   "outputs": [
    {
     "data": {
      "text/plain": [
       "6"
      ]
     },
     "execution_count": 17,
     "metadata": {},
     "output_type": "execute_result"
    }
   ],
   "source": [
    "arr_2d.size ##number of elements in an array"
   ]
  },
  {
   "cell_type": "code",
   "execution_count": 18,
   "id": "83f0a8d7",
   "metadata": {},
   "outputs": [
    {
     "data": {
      "text/plain": [
       "2"
      ]
     },
     "execution_count": 18,
     "metadata": {},
     "output_type": "execute_result"
    }
   ],
   "source": [
    "arr_2d.ndim ##dimension of array"
   ]
  },
  {
   "cell_type": "code",
   "execution_count": 19,
   "id": "cbd3bad0",
   "metadata": {},
   "outputs": [
    {
     "data": {
      "text/plain": [
       "array([[[1, 2],\n",
       "        [3, 4],\n",
       "        [5, 6],\n",
       "        [7, 8]]])"
      ]
     },
     "execution_count": 19,
     "metadata": {},
     "output_type": "execute_result"
    }
   ],
   "source": [
    "arr_1d = np.array([1,2,3])\n",
    "arr_3d = np.array([[[1,2],[3,4],[5,6],[7,8]]])\n",
    "arr_3d"
   ]
  },
  {
   "cell_type": "code",
   "execution_count": 20,
   "id": "9674c948",
   "metadata": {},
   "outputs": [
    {
     "data": {
      "text/plain": [
       "(1, 4, 2)"
      ]
     },
     "execution_count": 20,
     "metadata": {},
     "output_type": "execute_result"
    }
   ],
   "source": [
    "arr_3d.shape ##1 block and 4 rows,2 columns"
   ]
  },
  {
   "cell_type": "code",
   "execution_count": 21,
   "id": "1d33ce64",
   "metadata": {},
   "outputs": [
    {
     "data": {
      "text/plain": [
       "1"
      ]
     },
     "metadata": {},
     "output_type": "display_data"
    },
    {
     "data": {
      "text/plain": [
       "3"
      ]
     },
     "metadata": {},
     "output_type": "display_data"
    }
   ],
   "source": [
    "display(arr_1d.ndim)\n",
    "display(arr_3d.ndim)"
   ]
  },
  {
   "cell_type": "code",
   "execution_count": 29,
   "id": "00164b66",
   "metadata": {},
   "outputs": [
    {
     "data": {
      "text/plain": [
       "dtype('int32')"
      ]
     },
     "execution_count": 29,
     "metadata": {},
     "output_type": "execute_result"
    }
   ],
   "source": [
    "arr_2d.dtype  ##check data type"
   ]
  },
  {
   "cell_type": "code",
   "execution_count": 23,
   "id": "3ced7053",
   "metadata": {},
   "outputs": [
    {
     "data": {
      "text/plain": [
       "array([[1., 2., 3.],\n",
       "       [4., 5., 6.]])"
      ]
     },
     "execution_count": 23,
     "metadata": {},
     "output_type": "execute_result"
    }
   ],
   "source": [
    "arr_2d.astype(float)"
   ]
  },
  {
   "cell_type": "code",
   "execution_count": 24,
   "id": "3d6d5869",
   "metadata": {},
   "outputs": [],
   "source": [
    "age = np.array(['28','33','25','38'])"
   ]
  },
  {
   "cell_type": "code",
   "execution_count": null,
   "id": "a4684c5d",
   "metadata": {},
   "outputs": [],
   "source": [
    "age = age.astype(int) ##change data type of array"
   ]
  },
  {
   "cell_type": "code",
   "execution_count": 28,
   "id": "30aaf106",
   "metadata": {},
   "outputs": [
    {
     "data": {
      "text/plain": [
       "dtype('int32')"
      ]
     },
     "execution_count": 28,
     "metadata": {},
     "output_type": "execute_result"
    }
   ],
   "source": [
    "age.dtype"
   ]
  },
  {
   "cell_type": "markdown",
   "id": "6c8727d1",
   "metadata": {},
   "source": [
    "### Maths operation with numpy"
   ]
  },
  {
   "cell_type": "code",
   "execution_count": 30,
   "id": "c2390948",
   "metadata": {},
   "outputs": [],
   "source": [
    "import numpy as np"
   ]
  },
  {
   "cell_type": "code",
   "execution_count": 31,
   "id": "ccf4eee3",
   "metadata": {},
   "outputs": [],
   "source": [
    "arr = np.array([10,20,30])"
   ]
  },
  {
   "cell_type": "code",
   "execution_count": 32,
   "id": "dd8588e8",
   "metadata": {},
   "outputs": [
    {
     "data": {
      "text/plain": [
       "array([15, 25, 35])"
      ]
     },
     "execution_count": 32,
     "metadata": {},
     "output_type": "execute_result"
    }
   ],
   "source": [
    "arr+5 ##without loops"
   ]
  },
  {
   "cell_type": "code",
   "execution_count": 34,
   "id": "3f69e5be",
   "metadata": {},
   "outputs": [
    {
     "data": {
      "text/plain": [
       "array([20, 40, 60])"
      ]
     },
     "execution_count": 34,
     "metadata": {},
     "output_type": "execute_result"
    }
   ],
   "source": [
    "arr*2 ##without loops"
   ]
  },
  {
   "cell_type": "code",
   "execution_count": 35,
   "id": "ec162997",
   "metadata": {},
   "outputs": [
    {
     "data": {
      "text/plain": [
       "array([100, 400, 900])"
      ]
     },
     "execution_count": 35,
     "metadata": {},
     "output_type": "execute_result"
    }
   ],
   "source": [
    "arr**2 ##without loops"
   ]
  },
  {
   "cell_type": "markdown",
   "id": "b2cea64d",
   "metadata": {},
   "source": [
    "### Aggregation Functions"
   ]
  },
  {
   "cell_type": "code",
   "execution_count": null,
   "id": "27acb200",
   "metadata": {},
   "outputs": [],
   "source": [
    "## np.sum(array)\n",
    "##np.mean(array)\n",
    "##np.min(array)\n",
    "##np.max(array)\n",
    "##np.std(array) standard deviation\n",
    "##np.var(array) variance"
   ]
  },
  {
   "cell_type": "code",
   "execution_count": 36,
   "id": "9700bcc3",
   "metadata": {},
   "outputs": [],
   "source": [
    "a= np.array([[10,20,30],\n",
    "          [40,50,60],\n",
    "          [70,80,90]])"
   ]
  },
  {
   "cell_type": "code",
   "execution_count": 40,
   "id": "667ca7da",
   "metadata": {},
   "outputs": [
    {
     "data": {
      "text/plain": [
       "450"
      ]
     },
     "execution_count": 40,
     "metadata": {},
     "output_type": "execute_result"
    }
   ],
   "source": [
    "np.sum(a) ##simple sum of all elements"
   ]
  },
  {
   "cell_type": "code",
   "execution_count": 39,
   "id": "16033861",
   "metadata": {},
   "outputs": [
    {
     "data": {
      "text/plain": [
       "array([120, 150, 180])"
      ]
     },
     "execution_count": 39,
     "metadata": {},
     "output_type": "execute_result"
    }
   ],
   "source": [
    "np.sum(a,axis=0) ## ---> row wise operation downwards, each column gets one value "
   ]
  },
  {
   "cell_type": "code",
   "execution_count": 37,
   "id": "97a95f04",
   "metadata": {},
   "outputs": [
    {
     "data": {
      "text/plain": [
       "array([ 60, 150, 240])"
      ]
     },
     "execution_count": 37,
     "metadata": {},
     "output_type": "execute_result"
    }
   ],
   "source": [
    "np.sum(a,axis = 1) ## ----> column wise operation left to right, each row gets one result. \n",
    "## For ex: 0 10 + 20 + 30 --> 60"
   ]
  },
  {
   "cell_type": "code",
   "execution_count": 41,
   "id": "445cd200",
   "metadata": {},
   "outputs": [
    {
     "data": {
      "text/plain": [
       "50.0"
      ]
     },
     "metadata": {},
     "output_type": "display_data"
    },
    {
     "data": {
      "text/plain": [
       "25.81988897471611"
      ]
     },
     "metadata": {},
     "output_type": "display_data"
    },
    {
     "data": {
      "text/plain": [
       "10"
      ]
     },
     "metadata": {},
     "output_type": "display_data"
    },
    {
     "data": {
      "text/plain": [
       "90"
      ]
     },
     "metadata": {},
     "output_type": "display_data"
    },
    {
     "data": {
      "text/plain": [
       "666.6666666666666"
      ]
     },
     "metadata": {},
     "output_type": "display_data"
    }
   ],
   "source": [
    "display(np.mean(a))\n",
    "display(np.std(a))\n",
    "display(np.min(a))\n",
    "display(np.max(a))\n",
    "display(np.var(a))"
   ]
  },
  {
   "cell_type": "markdown",
   "id": "9e93c6d9",
   "metadata": {},
   "source": [
    "### Indexing and Slicing"
   ]
  },
  {
   "cell_type": "code",
   "execution_count": null,
   "id": "bc164dd2",
   "metadata": {},
   "outputs": [],
   "source": [
    "'''array[index] #1d array\n",
    "array[row,column] ##2d '''"
   ]
  },
  {
   "cell_type": "code",
   "execution_count": 49,
   "id": "bb67fece",
   "metadata": {},
   "outputs": [],
   "source": [
    "import numpy as np\n",
    "arr = np.array([10,20,30,40,50,60])"
   ]
  },
  {
   "cell_type": "code",
   "execution_count": 50,
   "id": "f997c0fb",
   "metadata": {},
   "outputs": [
    {
     "data": {
      "text/plain": [
       "(10, 30, 60)"
      ]
     },
     "execution_count": 50,
     "metadata": {},
     "output_type": "execute_result"
    }
   ],
   "source": [
    "arr[0],arr[2],arr[-1]"
   ]
  },
  {
   "cell_type": "code",
   "execution_count": 51,
   "id": "b19b64d0",
   "metadata": {},
   "outputs": [
    {
     "data": {
      "text/plain": [
       "array([20, 30])"
      ]
     },
     "execution_count": 51,
     "metadata": {},
     "output_type": "execute_result"
    }
   ],
   "source": [
    "arr[1:3]"
   ]
  },
  {
   "cell_type": "code",
   "execution_count": 53,
   "id": "c30c778f",
   "metadata": {},
   "outputs": [
    {
     "data": {
      "text/plain": [
       "array([10, 30, 50])"
      ]
     },
     "execution_count": 53,
     "metadata": {},
     "output_type": "execute_result"
    }
   ],
   "source": [
    "arr[::2]"
   ]
  },
  {
   "cell_type": "code",
   "execution_count": 52,
   "id": "48822186",
   "metadata": {},
   "outputs": [
    {
     "data": {
      "text/plain": [
       "array([60, 50, 40, 30, 20, 10])"
      ]
     },
     "execution_count": 52,
     "metadata": {},
     "output_type": "execute_result"
    }
   ],
   "source": [
    "arr[::-1] #reverse order"
   ]
  },
  {
   "cell_type": "code",
   "execution_count": null,
   "id": "45b4e100",
   "metadata": {},
   "outputs": [
    {
     "data": {
      "text/plain": [
       "array([[10, 20],\n",
       "       [40, 50]])"
      ]
     },
     "execution_count": 60,
     "metadata": {},
     "output_type": "execute_result"
    }
   ],
   "source": [
    "b= np.array([[10,20,30],\n",
    "          [40,50,60],\n",
    "          [70,80,90]])\n",
    "b[:2,:2] ##array[row index,column index]"
   ]
  },
  {
   "cell_type": "markdown",
   "id": "377ac9bd",
   "metadata": {},
   "source": [
    "### Fancy Indexing"
   ]
  },
  {
   "cell_type": "code",
   "execution_count": 54,
   "id": "e5d08ee0",
   "metadata": {},
   "outputs": [
    {
     "data": {
      "text/plain": [
       "array([10, 30, 50])"
      ]
     },
     "execution_count": 54,
     "metadata": {},
     "output_type": "execute_result"
    }
   ],
   "source": [
    "arr[[0,2,4]] ##select any index"
   ]
  },
  {
   "cell_type": "markdown",
   "id": "5f02ff2f",
   "metadata": {},
   "source": [
    "### Boolean Masking"
   ]
  },
  {
   "cell_type": "code",
   "execution_count": 55,
   "id": "9ae9ac8c",
   "metadata": {},
   "outputs": [
    {
     "data": {
      "text/plain": [
       "array([30, 40, 50, 60])"
      ]
     },
     "execution_count": 55,
     "metadata": {},
     "output_type": "execute_result"
    }
   ],
   "source": [
    "arr[arr>25]"
   ]
  },
  {
   "cell_type": "markdown",
   "id": "407fa951",
   "metadata": {},
   "source": [
    "### Reshaping & Manipulating Arrays"
   ]
  },
  {
   "cell_type": "code",
   "execution_count": 65,
   "id": "42811588",
   "metadata": {},
   "outputs": [
    {
     "data": {
      "text/plain": [
       "array([[1, 2],\n",
       "       [3, 4]])"
      ]
     },
     "execution_count": 65,
     "metadata": {},
     "output_type": "execute_result"
    }
   ],
   "source": [
    "arr= np.array([1,2,3,4]).reshape(2,2) ##make sure m*n must be equal to number of elements\n",
    "arr"
   ]
  },
  {
   "cell_type": "markdown",
   "id": "60386b30",
   "metadata": {},
   "source": [
    "### Flattening Arrays"
   ]
  },
  {
   "cell_type": "code",
   "execution_count": 66,
   "id": "3a6a794d",
   "metadata": {},
   "outputs": [],
   "source": [
    "##multidimensional arrays to 1d array\n",
    "\n",
    "'''.ravel() ----> returns a view\n",
    ".flatten() ----> returns a copy\n",
    "'''\n",
    "arr2_d =np.array([[1,2,3],\n",
    "                  [4,5,6]])"
   ]
  },
  {
   "cell_type": "code",
   "execution_count": 67,
   "id": "c8b7e166",
   "metadata": {},
   "outputs": [
    {
     "data": {
      "text/plain": [
       "array([1, 2, 3, 4, 5, 6])"
      ]
     },
     "execution_count": 67,
     "metadata": {},
     "output_type": "execute_result"
    }
   ],
   "source": [
    "arr2_d.ravel()"
   ]
  },
  {
   "cell_type": "code",
   "execution_count": 68,
   "id": "6f787549",
   "metadata": {},
   "outputs": [
    {
     "data": {
      "text/plain": [
       "array([1, 2, 3, 4, 5, 6])"
      ]
     },
     "execution_count": 68,
     "metadata": {},
     "output_type": "execute_result"
    }
   ],
   "source": [
    "arr2_d.flatten()"
   ]
  },
  {
   "cell_type": "markdown",
   "id": "ac2afca2",
   "metadata": {},
   "source": [
    "### Array Modification"
   ]
  },
  {
   "cell_type": "code",
   "execution_count": null,
   "id": "49643087",
   "metadata": {},
   "outputs": [],
   "source": [
    "'''\n",
    "np.insert(array,index,value,axis = None)\n",
    "'''"
   ]
  },
  {
   "cell_type": "code",
   "execution_count": 70,
   "id": "3a7006cf",
   "metadata": {},
   "outputs": [],
   "source": [
    "arr = np.array([10,20,30,40,50,60])"
   ]
  },
  {
   "cell_type": "code",
   "execution_count": null,
   "id": "b9d82d89",
   "metadata": {},
   "outputs": [
    {
     "data": {
      "text/plain": [
       "array([ 10,  20, 100,  30,  40,  50,  60])"
      ]
     },
     "execution_count": 75,
     "metadata": {},
     "output_type": "execute_result"
    }
   ],
   "source": [
    "np.insert(arr,2,100,axis =0) ##insert value based on index"
   ]
  },
  {
   "cell_type": "code",
   "execution_count": null,
   "id": "9f82b064",
   "metadata": {},
   "outputs": [
    {
     "data": {
      "text/plain": [
       "array([[1, 2],\n",
       "       [5, 6],\n",
       "       [3, 4]])"
      ]
     },
     "execution_count": 81,
     "metadata": {},
     "output_type": "execute_result"
    }
   ],
   "source": [
    "arr2_d= np.array([[1,2],[3,4]])\n",
    "np.insert(arr2_d,1,[5,6],axis = 0) ##0  1\n",
    "                                ##0 1   2\n",
    "                                ##1 3   4 <--- insert(5,6,) on 1st index of row as axis = 0 means row"
   ]
  },
  {
   "cell_type": "code",
   "execution_count": null,
   "id": "39c22e4e",
   "metadata": {},
   "outputs": [
    {
     "data": {
      "text/plain": [
       "array([[1, 5, 2],\n",
       "       [3, 6, 4]])"
      ]
     },
     "execution_count": 82,
     "metadata": {},
     "output_type": "execute_result"
    }
   ],
   "source": [
    "np.insert(arr2_d,1,[5,6],axis = 1) \n",
    "                                \n",
    "                                ##  0   1\n",
    "                                ##0 1   2\n",
    "                                ##1 3   4 \n",
    "                                ##      ^\n",
    "                                    ##  | <--- insert(5,6,) on 1st index of column as axis = 1 means column"
   ]
  },
  {
   "cell_type": "code",
   "execution_count": null,
   "id": "468306bc",
   "metadata": {},
   "outputs": [
    {
     "data": {
      "text/plain": [
       "array([1, 5, 6, 2, 3, 4])"
      ]
     },
     "execution_count": 83,
     "metadata": {},
     "output_type": "execute_result"
    }
   ],
   "source": [
    "np.insert(arr2_d,1,[5,6],axis = None) ##returns flattened version of array "
   ]
  },
  {
   "cell_type": "code",
   "execution_count": 84,
   "id": "11a58ed4",
   "metadata": {},
   "outputs": [
    {
     "data": {
      "text/plain": [
       "array([10, 20, 30, 40, 50, 60])"
      ]
     },
     "execution_count": 84,
     "metadata": {},
     "output_type": "execute_result"
    }
   ],
   "source": [
    "arr = np.array([10,20,30])\n",
    "np.append(arr,[40,50,60])"
   ]
  },
  {
   "cell_type": "code",
   "execution_count": 113,
   "id": "0b173946",
   "metadata": {},
   "outputs": [
    {
     "data": {
      "text/plain": [
       "array([[1, 2],\n",
       "       [3, 4],\n",
       "       [5, 6]])"
      ]
     },
     "execution_count": 113,
     "metadata": {},
     "output_type": "execute_result"
    }
   ],
   "source": [
    "arr2_d= np.array([[1,2],[3,4]])\n",
    "np.append(arr2_d,[[5,6]],axis=0) ##append inserts at the end of the array without specified index number unlike insert"
   ]
  },
  {
   "cell_type": "code",
   "execution_count": 138,
   "id": "15242761",
   "metadata": {},
   "outputs": [
    {
     "data": {
      "text/plain": [
       "array([[1, 2],\n",
       "       [3, 4]])"
      ]
     },
     "execution_count": 138,
     "metadata": {},
     "output_type": "execute_result"
    }
   ],
   "source": [
    "'''\n",
    "axis= 0 > vertical stacking\n",
    "axis = 1 > horizontal stacking\n",
    "'''\n",
    "\n",
    "a = np.array([[1,2]])\n",
    "b = np.array([[3,4]])\n",
    "np.concatenate((a,b),axis = 0) ##vertically stacked array"
   ]
  },
  {
   "cell_type": "code",
   "execution_count": null,
   "id": "09a63417",
   "metadata": {},
   "outputs": [
    {
     "data": {
      "text/plain": [
       "array([[1, 2, 3, 4]])"
      ]
     },
     "execution_count": 111,
     "metadata": {},
     "output_type": "execute_result"
    }
   ],
   "source": [
    "a = np.array([[1,2]])\n",
    "b = np.array([[3,4]])\n",
    "np.concatenate((a,b),axis = 1) ##horizontally stacked array"
   ]
  },
  {
   "cell_type": "markdown",
   "id": "1763bdaf",
   "metadata": {},
   "source": [
    "### Removing elements from Array"
   ]
  },
  {
   "cell_type": "code",
   "execution_count": null,
   "id": "a0c12301",
   "metadata": {},
   "outputs": [],
   "source": [
    "## np.delete(array,index,axis = None)"
   ]
  },
  {
   "cell_type": "code",
   "execution_count": 118,
   "id": "10431911",
   "metadata": {},
   "outputs": [
    {
     "data": {
      "text/plain": [
       "array([10, 20, 30, 40, 50, 60])"
      ]
     },
     "execution_count": 118,
     "metadata": {},
     "output_type": "execute_result"
    }
   ],
   "source": [
    "arr = np.arange(10,70,10)\n",
    "arr"
   ]
  },
  {
   "cell_type": "code",
   "execution_count": 119,
   "id": "ad722eaa",
   "metadata": {},
   "outputs": [
    {
     "data": {
      "text/plain": [
       "array([10, 30, 40, 50, 60])"
      ]
     },
     "execution_count": 119,
     "metadata": {},
     "output_type": "execute_result"
    }
   ],
   "source": [
    "np.delete(arr,1,axis=None)"
   ]
  },
  {
   "cell_type": "code",
   "execution_count": 120,
   "id": "b9dcbe7e",
   "metadata": {},
   "outputs": [
    {
     "data": {
      "text/plain": [
       "array([[10, 20],\n",
       "       [30, 40],\n",
       "       [50, 60]])"
      ]
     },
     "execution_count": 120,
     "metadata": {},
     "output_type": "execute_result"
    }
   ],
   "source": [
    "arr = np.arange(10,70,10).reshape(3,2)\n",
    "arr"
   ]
  },
  {
   "cell_type": "code",
   "execution_count": null,
   "id": "f977d9a3",
   "metadata": {},
   "outputs": [
    {
     "data": {
      "text/plain": [
       "array([[10, 20],\n",
       "       [50, 60]])"
      ]
     },
     "execution_count": 124,
     "metadata": {},
     "output_type": "execute_result"
    }
   ],
   "source": [
    "np.delete(arr,1,axis = 0) ##left to right removal of index used in row deletion"
   ]
  },
  {
   "cell_type": "code",
   "execution_count": null,
   "id": "3f3555da",
   "metadata": {},
   "outputs": [
    {
     "data": {
      "text/plain": [
       "array([[10],\n",
       "       [30],\n",
       "       [50]])"
      ]
     },
     "execution_count": 125,
     "metadata": {},
     "output_type": "execute_result"
    }
   ],
   "source": [
    "np.delete(arr,1,axis = 1) ##downward removal of index used in column deletion"
   ]
  },
  {
   "cell_type": "markdown",
   "id": "f71e4d23",
   "metadata": {},
   "source": [
    "#### There's no feature such as inplace while deleting from arrays, so always have to create new arrays everytime changes r made."
   ]
  },
  {
   "cell_type": "markdown",
   "id": "431fe484",
   "metadata": {},
   "source": [
    "### Stacking"
   ]
  },
  {
   "cell_type": "code",
   "execution_count": 153,
   "id": "726eddef",
   "metadata": {},
   "outputs": [
    {
     "data": {
      "text/plain": [
       "array([[1, 2, 3],\n",
       "       [4, 5, 6]])"
      ]
     },
     "execution_count": 153,
     "metadata": {},
     "output_type": "execute_result"
    }
   ],
   "source": [
    "arr1= np.array([1,2,3])\n",
    "arr2= np.array([4,5,6])\n",
    "np.vstack((arr1,arr2)) "
   ]
  },
  {
   "cell_type": "code",
   "execution_count": 154,
   "id": "8963f8df",
   "metadata": {},
   "outputs": [
    {
     "data": {
      "text/plain": [
       "array([1, 2, 3, 4, 5, 6])"
      ]
     },
     "execution_count": 154,
     "metadata": {},
     "output_type": "execute_result"
    }
   ],
   "source": [
    "np.hstack((arr1,arr2))"
   ]
  },
  {
   "cell_type": "markdown",
   "id": "14c30b3d",
   "metadata": {},
   "source": [
    "### Splitting"
   ]
  },
  {
   "cell_type": "code",
   "execution_count": 155,
   "id": "c6672d9e",
   "metadata": {},
   "outputs": [
    {
     "data": {
      "text/plain": [
       "array([10, 20, 30, 40, 50, 60])"
      ]
     },
     "execution_count": 155,
     "metadata": {},
     "output_type": "execute_result"
    }
   ],
   "source": [
    "arr = np.arange(10,70,10)\n",
    "arr"
   ]
  },
  {
   "cell_type": "code",
   "execution_count": 156,
   "id": "f57df1c8",
   "metadata": {},
   "outputs": [
    {
     "data": {
      "text/plain": [
       "[array([10, 20, 30]), array([40, 50, 60])]"
      ]
     },
     "execution_count": 156,
     "metadata": {},
     "output_type": "execute_result"
    }
   ],
   "source": [
    "np.split(arr,2)"
   ]
  },
  {
   "cell_type": "markdown",
   "id": "a4cbba14",
   "metadata": {},
   "source": [
    "### Brodcasting"
   ]
  },
  {
   "cell_type": "code",
   "execution_count": 2,
   "id": "deadc306",
   "metadata": {},
   "outputs": [
    {
     "data": {
      "text/plain": [
       "array([100, 200, 300])"
      ]
     },
     "execution_count": 2,
     "metadata": {},
     "output_type": "execute_result"
    }
   ],
   "source": [
    "import numpy as np\n",
    "\n",
    "prices = np.arange(100,400,100)\n",
    "prices"
   ]
  },
  {
   "cell_type": "code",
   "execution_count": null,
   "id": "7f3e9a6e",
   "metadata": {},
   "outputs": [
    {
     "name": "stdout",
     "output_type": "stream",
     "text": [
      "[90.0, 180.0, 270.0]\n"
     ]
    }
   ],
   "source": [
    "#3 problem slow due to for loop\n",
    "discount = 10\n",
    "final_prices = []\n",
    "\n",
    "for price in prices:\n",
    "    price = price-(price*discount/100)\n",
    "    final_prices.append(price)\n",
    "\n",
    "print(final_prices)"
   ]
  },
  {
   "cell_type": "code",
   "execution_count": 13,
   "id": "eaa89803",
   "metadata": {},
   "outputs": [
    {
     "data": {
      "text/plain": [
       "array([ 90., 180., 270.])"
      ]
     },
     "execution_count": 13,
     "metadata": {},
     "output_type": "execute_result"
    }
   ],
   "source": [
    "final_prices = prices - (prices* 10/100)\n",
    "\n",
    "final_prices"
   ]
  },
  {
   "cell_type": "code",
   "execution_count": 14,
   "id": "f4c50084",
   "metadata": {},
   "outputs": [
    {
     "data": {
      "text/plain": [
       "array([5, 7, 9])"
      ]
     },
     "execution_count": 14,
     "metadata": {},
     "output_type": "execute_result"
    }
   ],
   "source": [
    "np.array([1,2,3]) + np.array([4,5,6])"
   ]
  },
  {
   "cell_type": "code",
   "execution_count": 15,
   "id": "927a6f58",
   "metadata": {},
   "outputs": [
    {
     "data": {
      "text/plain": [
       "array([11, 12, 13])"
      ]
     },
     "execution_count": 15,
     "metadata": {},
     "output_type": "execute_result"
    }
   ],
   "source": [
    "np.array([1,2,3]) + 10"
   ]
  },
  {
   "cell_type": "code",
   "execution_count": null,
   "id": "1c3a9977",
   "metadata": {},
   "outputs": [
    {
     "ename": "ValueError",
     "evalue": "operands could not be broadcast together with shapes (3,) (5,) ",
     "output_type": "error",
     "traceback": [
      "\u001b[1;31m---------------------------------------------------------------------------\u001b[0m",
      "\u001b[1;31mValueError\u001b[0m                                Traceback (most recent call last)",
      "Cell \u001b[1;32mIn[17], line 1\u001b[0m\n\u001b[1;32m----> 1\u001b[0m np\u001b[38;5;241m.\u001b[39marray([\u001b[38;5;241m1\u001b[39m,\u001b[38;5;241m2\u001b[39m,\u001b[38;5;241m3\u001b[39m]) \u001b[38;5;241m+\u001b[39m np\u001b[38;5;241m.\u001b[39marray([\u001b[38;5;241m4\u001b[39m,\u001b[38;5;241m5\u001b[39m,\u001b[38;5;241m6\u001b[39m,\u001b[38;5;241m7\u001b[39m,\u001b[38;5;241m8\u001b[39m])\n",
      "\u001b[1;31mValueError\u001b[0m: operands could not be broadcast together with shapes (3,) (5,) "
     ]
    }
   ],
   "source": [
    "np.array([1,2,3]) + np.array([4,5,6,7,8]) ##Error due to mismatch of shapes"
   ]
  },
  {
   "cell_type": "code",
   "execution_count": 23,
   "id": "331c5c7a",
   "metadata": {},
   "outputs": [
    {
     "data": {
      "text/plain": [
       "array([[1, 2, 3],\n",
       "       [4, 5, 6]])"
      ]
     },
     "execution_count": 23,
     "metadata": {},
     "output_type": "execute_result"
    }
   ],
   "source": [
    "matrix = np.arange(1,7).reshape(2,3)\n",
    "matrix"
   ]
  },
  {
   "cell_type": "code",
   "execution_count": 19,
   "id": "a5ac7214",
   "metadata": {},
   "outputs": [
    {
     "data": {
      "text/plain": [
       "array([10, 20, 30])"
      ]
     },
     "execution_count": 19,
     "metadata": {},
     "output_type": "execute_result"
    }
   ],
   "source": [
    "vector = np.arange(10,40,10)\n",
    "vector"
   ]
  },
  {
   "cell_type": "code",
   "execution_count": 24,
   "id": "e638694e",
   "metadata": {},
   "outputs": [
    {
     "data": {
      "text/plain": [
       "array([[11, 22, 33],\n",
       "       [14, 25, 36]])"
      ]
     },
     "execution_count": 24,
     "metadata": {},
     "output_type": "execute_result"
    }
   ],
   "source": [
    "result = matrix + vector\n",
    "result ##row wise addition as both have 3 columns "
   ]
  },
  {
   "cell_type": "code",
   "execution_count": 29,
   "id": "9324fab6",
   "metadata": {},
   "outputs": [],
   "source": [
    "a = np.arange(1,7).reshape(2,3)\n",
    "b = np.arange(1,3)"
   ]
  },
  {
   "cell_type": "code",
   "execution_count": null,
   "id": "ca2302c9",
   "metadata": {},
   "outputs": [
    {
     "ename": "ValueError",
     "evalue": "operands could not be broadcast together with shapes (2,3) (2,) ",
     "output_type": "error",
     "traceback": [
      "\u001b[1;31m---------------------------------------------------------------------------\u001b[0m",
      "\u001b[1;31mValueError\u001b[0m                                Traceback (most recent call last)",
      "Cell \u001b[1;32mIn[30], line 1\u001b[0m\n\u001b[1;32m----> 1\u001b[0m a\u001b[38;5;241m+\u001b[39mb\n",
      "\u001b[1;31mValueError\u001b[0m: operands could not be broadcast together with shapes (2,3) (2,) "
     ]
    }
   ],
   "source": [
    "a+b ## Error as number of columns dont match. "
   ]
  },
  {
   "cell_type": "markdown",
   "id": "4902a5b5",
   "metadata": {},
   "source": [
    "#### Operations will only be performed if same number of columns are there."
   ]
  },
  {
   "cell_type": "markdown",
   "id": "6cca7d33",
   "metadata": {},
   "source": [
    "### Vectorisation"
   ]
  },
  {
   "cell_type": "code",
   "execution_count": null,
   "id": "d13bbc57",
   "metadata": {},
   "outputs": [],
   "source": []
  },
  {
   "cell_type": "code",
   "execution_count": null,
   "id": "4a2d2d56",
   "metadata": {},
   "outputs": [],
   "source": []
  },
  {
   "cell_type": "code",
   "execution_count": null,
   "id": "703e8c9b",
   "metadata": {},
   "outputs": [],
   "source": []
  },
  {
   "cell_type": "code",
   "execution_count": null,
   "id": "a4e2e402",
   "metadata": {},
   "outputs": [],
   "source": []
  },
  {
   "cell_type": "code",
   "execution_count": null,
   "id": "8f4736ce",
   "metadata": {},
   "outputs": [],
   "source": []
  },
  {
   "cell_type": "code",
   "execution_count": null,
   "id": "4d4bc313",
   "metadata": {},
   "outputs": [],
   "source": []
  }
 ],
 "metadata": {
  "kernelspec": {
   "display_name": "base",
   "language": "python",
   "name": "python3"
  },
  "language_info": {
   "codemirror_mode": {
    "name": "ipython",
    "version": 3
   },
   "file_extension": ".py",
   "mimetype": "text/x-python",
   "name": "python",
   "nbconvert_exporter": "python",
   "pygments_lexer": "ipython3",
   "version": "3.11.7"
  }
 },
 "nbformat": 4,
 "nbformat_minor": 5
}
